{
 "cells": [
  {
   "cell_type": "code",
   "execution_count": 30,
   "id": "df34a3ee",
   "metadata": {},
   "outputs": [],
   "source": [
    "# Importing the necessary tools\n",
    "# General \n",
    "import pandas as pd\n",
    "import numpy as np"
   ]
  },
  {
   "cell_type": "code",
   "execution_count": 31,
   "id": "24737d21",
   "metadata": {},
   "outputs": [],
   "source": [
    "cheese_df = pd.read_csv(\"/home/ec2-user/SageMaker/cheese_names_WEBSCRAPED.csv\")"
   ]
  },
  {
   "cell_type": "code",
   "execution_count": 32,
   "id": "d5e57f04",
   "metadata": {},
   "outputs": [
    {
     "data": {
      "text/html": [
       "<div>\n",
       "<style scoped>\n",
       "    .dataframe tbody tr th:only-of-type {\n",
       "        vertical-align: middle;\n",
       "    }\n",
       "\n",
       "    .dataframe tbody tr th {\n",
       "        vertical-align: top;\n",
       "    }\n",
       "\n",
       "    .dataframe thead th {\n",
       "        text-align: right;\n",
       "    }\n",
       "</style>\n",
       "<table border=\"1\" class=\"dataframe\">\n",
       "  <thead>\n",
       "    <tr style=\"text-align: right;\">\n",
       "      <th></th>\n",
       "      <th>Unnamed: 0</th>\n",
       "      <th>Made from</th>\n",
       "      <th>Country of origin</th>\n",
       "      <th>Region</th>\n",
       "      <th>Type</th>\n",
       "      <th>Family</th>\n",
       "      <th>Fat content</th>\n",
       "      <th>Texture</th>\n",
       "      <th>Rind</th>\n",
       "      <th>Colour</th>\n",
       "      <th>Flavour</th>\n",
       "      <th>Aroma</th>\n",
       "      <th>Vegetarian</th>\n",
       "      <th>Producers</th>\n",
       "    </tr>\n",
       "  </thead>\n",
       "  <tbody>\n",
       "    <tr>\n",
       "      <th>0</th>\n",
       "      <td>Abbaye de Belloc</td>\n",
       "      <td>unpasteurized sheep's milk</td>\n",
       "      <td>France</td>\n",
       "      <td>Pays Basque</td>\n",
       "      <td>semi-hard, artisan</td>\n",
       "      <td>NaN</td>\n",
       "      <td>NaN</td>\n",
       "      <td>creamy, dense and firm</td>\n",
       "      <td>natural</td>\n",
       "      <td>yellow</td>\n",
       "      <td>burnt caramel</td>\n",
       "      <td>lanoline</td>\n",
       "      <td>yes</td>\n",
       "      <td>NaN</td>\n",
       "    </tr>\n",
       "    <tr>\n",
       "      <th>1</th>\n",
       "      <td>Abbaye de Belval</td>\n",
       "      <td>cow's milk</td>\n",
       "      <td>France</td>\n",
       "      <td>NaN</td>\n",
       "      <td>semi-hard</td>\n",
       "      <td>NaN</td>\n",
       "      <td>40-46%</td>\n",
       "      <td>elastic</td>\n",
       "      <td>washed</td>\n",
       "      <td>ivory</td>\n",
       "      <td>NaN</td>\n",
       "      <td>aromatic</td>\n",
       "      <td>no</td>\n",
       "      <td>NaN</td>\n",
       "    </tr>\n",
       "    <tr>\n",
       "      <th>2</th>\n",
       "      <td>Abbaye de Citeaux</td>\n",
       "      <td>unpasteurized cow's milk</td>\n",
       "      <td>France</td>\n",
       "      <td>Burgundy</td>\n",
       "      <td>semi-soft, artisan, brined</td>\n",
       "      <td>NaN</td>\n",
       "      <td>NaN</td>\n",
       "      <td>creamy, dense and smooth</td>\n",
       "      <td>washed</td>\n",
       "      <td>white</td>\n",
       "      <td>acidic, milky, smooth</td>\n",
       "      <td>barnyardy, earthy</td>\n",
       "      <td>no</td>\n",
       "      <td>NaN</td>\n",
       "    </tr>\n",
       "    <tr>\n",
       "      <th>3</th>\n",
       "      <td>Abbaye de Tamie</td>\n",
       "      <td>unpasteurized cow's milk</td>\n",
       "      <td>France</td>\n",
       "      <td>Savoie</td>\n",
       "      <td>soft, artisan</td>\n",
       "      <td>NaN</td>\n",
       "      <td>NaN</td>\n",
       "      <td>creamy, open and smooth</td>\n",
       "      <td>washed</td>\n",
       "      <td>white</td>\n",
       "      <td>fruity, nutty</td>\n",
       "      <td>lactic, perfumed, pungent</td>\n",
       "      <td>no</td>\n",
       "      <td>NaN</td>\n",
       "    </tr>\n",
       "    <tr>\n",
       "      <th>4</th>\n",
       "      <td>Abbaye de Timadeuc</td>\n",
       "      <td>pasteurized cow's milk</td>\n",
       "      <td>France</td>\n",
       "      <td>province of Brittany</td>\n",
       "      <td>semi-hard</td>\n",
       "      <td>NaN</td>\n",
       "      <td>NaN</td>\n",
       "      <td>soft</td>\n",
       "      <td>washed</td>\n",
       "      <td>pale yellow</td>\n",
       "      <td>NaN</td>\n",
       "      <td>NaN</td>\n",
       "      <td>no</td>\n",
       "      <td>Abbaye Cistercienne  NOTRE-DAME DE TIMADEUC</td>\n",
       "    </tr>\n",
       "  </tbody>\n",
       "</table>\n",
       "</div>"
      ],
      "text/plain": [
       "           Unnamed: 0                   Made from Country of origin  \\\n",
       "0    Abbaye de Belloc  unpasteurized sheep's milk            France   \n",
       "1    Abbaye de Belval                  cow's milk            France   \n",
       "2   Abbaye de Citeaux    unpasteurized cow's milk            France   \n",
       "3     Abbaye de Tamie    unpasteurized cow's milk            France   \n",
       "4  Abbaye de Timadeuc      pasteurized cow's milk            France   \n",
       "\n",
       "                  Region                        Type Family Fat content  \\\n",
       "0            Pays Basque          semi-hard, artisan    NaN         NaN   \n",
       "1                    NaN                   semi-hard    NaN      40-46%   \n",
       "2               Burgundy  semi-soft, artisan, brined    NaN         NaN   \n",
       "3                 Savoie               soft, artisan    NaN         NaN   \n",
       "4   province of Brittany                   semi-hard    NaN         NaN   \n",
       "\n",
       "                    Texture     Rind       Colour                Flavour  \\\n",
       "0    creamy, dense and firm  natural       yellow          burnt caramel   \n",
       "1                   elastic   washed        ivory                    NaN   \n",
       "2  creamy, dense and smooth   washed        white  acidic, milky, smooth   \n",
       "3   creamy, open and smooth   washed        white          fruity, nutty   \n",
       "4                      soft   washed  pale yellow                    NaN   \n",
       "\n",
       "                       Aroma Vegetarian  \\\n",
       "0                   lanoline       yes    \n",
       "1                   aromatic        no    \n",
       "2          barnyardy, earthy        no    \n",
       "3  lactic, perfumed, pungent        no    \n",
       "4                        NaN        no    \n",
       "\n",
       "                                     Producers  \n",
       "0                                          NaN  \n",
       "1                                          NaN  \n",
       "2                                          NaN  \n",
       "3                                          NaN  \n",
       "4  Abbaye Cistercienne  NOTRE-DAME DE TIMADEUC  "
      ]
     },
     "execution_count": 32,
     "metadata": {},
     "output_type": "execute_result"
    }
   ],
   "source": [
    "cheese_df.head()"
   ]
  },
  {
   "cell_type": "code",
   "execution_count": 33,
   "id": "a7ad2a94",
   "metadata": {},
   "outputs": [
    {
     "data": {
      "text/plain": [
       "Unnamed: 0           object\n",
       "Made from            object\n",
       "Country of origin    object\n",
       "Region               object\n",
       "Type                 object\n",
       "Family               object\n",
       "Fat content          object\n",
       "Texture              object\n",
       "Rind                 object\n",
       "Colour               object\n",
       "Flavour              object\n",
       "Aroma                object\n",
       "Vegetarian           object\n",
       "Producers            object\n",
       "dtype: object"
      ]
     },
     "execution_count": 33,
     "metadata": {},
     "output_type": "execute_result"
    }
   ],
   "source": [
    "cheese_df.dtypes"
   ]
  },
  {
   "cell_type": "code",
   "execution_count": 34,
   "id": "e5cc8e96",
   "metadata": {},
   "outputs": [],
   "source": [
    "import sklearn\n",
    "from sklearn.preprocessing import LabelEncoder\n",
    "from sklearn.model_selection import train_test_split"
   ]
  },
  {
   "cell_type": "code",
   "execution_count": 35,
   "id": "5df096fb",
   "metadata": {},
   "outputs": [],
   "source": [
    "labelencoder=LabelEncoder() #encode all values in numbers\n",
    "for column in cheese_df.columns:\n",
    "    cheese_df[column] = labelencoder.fit_transform(cheese_df[column])"
   ]
  },
  {
   "cell_type": "code",
   "execution_count": 36,
   "id": "a34323fd",
   "metadata": {},
   "outputs": [
    {
     "data": {
      "text/html": [
       "<div>\n",
       "<style scoped>\n",
       "    .dataframe tbody tr th:only-of-type {\n",
       "        vertical-align: middle;\n",
       "    }\n",
       "\n",
       "    .dataframe tbody tr th {\n",
       "        vertical-align: top;\n",
       "    }\n",
       "\n",
       "    .dataframe thead th {\n",
       "        text-align: right;\n",
       "    }\n",
       "</style>\n",
       "<table border=\"1\" class=\"dataframe\">\n",
       "  <thead>\n",
       "    <tr style=\"text-align: right;\">\n",
       "      <th></th>\n",
       "      <th>Unnamed: 0</th>\n",
       "      <th>Made from</th>\n",
       "      <th>Country of origin</th>\n",
       "      <th>Region</th>\n",
       "      <th>Type</th>\n",
       "      <th>Family</th>\n",
       "      <th>Fat content</th>\n",
       "      <th>Texture</th>\n",
       "      <th>Rind</th>\n",
       "      <th>Colour</th>\n",
       "      <th>Flavour</th>\n",
       "      <th>Aroma</th>\n",
       "      <th>Vegetarian</th>\n",
       "      <th>Producers</th>\n",
       "    </tr>\n",
       "  </thead>\n",
       "  <tbody>\n",
       "    <tr>\n",
       "      <th>0</th>\n",
       "      <td>2</td>\n",
       "      <td>66</td>\n",
       "      <td>44</td>\n",
       "      <td>390</td>\n",
       "      <td>45</td>\n",
       "      <td>22</td>\n",
       "      <td>136</td>\n",
       "      <td>171</td>\n",
       "      <td>7</td>\n",
       "      <td>16</td>\n",
       "      <td>97</td>\n",
       "      <td>284</td>\n",
       "      <td>1</td>\n",
       "      <td>404</td>\n",
       "    </tr>\n",
       "    <tr>\n",
       "      <th>1</th>\n",
       "      <td>3</td>\n",
       "      <td>10</td>\n",
       "      <td>44</td>\n",
       "      <td>557</td>\n",
       "      <td>44</td>\n",
       "      <td>22</td>\n",
       "      <td>90</td>\n",
       "      <td>324</td>\n",
       "      <td>10</td>\n",
       "      <td>8</td>\n",
       "      <td>851</td>\n",
       "      <td>0</td>\n",
       "      <td>0</td>\n",
       "      <td>404</td>\n",
       "    </tr>\n",
       "    <tr>\n",
       "      <th>2</th>\n",
       "      <td>4</td>\n",
       "      <td>58</td>\n",
       "      <td>44</td>\n",
       "      <td>93</td>\n",
       "      <td>62</td>\n",
       "      <td>22</td>\n",
       "      <td>136</td>\n",
       "      <td>173</td>\n",
       "      <td>10</td>\n",
       "      <td>15</td>\n",
       "      <td>57</td>\n",
       "      <td>60</td>\n",
       "      <td>0</td>\n",
       "      <td>404</td>\n",
       "    </tr>\n",
       "    <tr>\n",
       "      <th>3</th>\n",
       "      <td>5</td>\n",
       "      <td>58</td>\n",
       "      <td>44</td>\n",
       "      <td>453</td>\n",
       "      <td>75</td>\n",
       "      <td>22</td>\n",
       "      <td>136</td>\n",
       "      <td>218</td>\n",
       "      <td>10</td>\n",
       "      <td>15</td>\n",
       "      <td>503</td>\n",
       "      <td>279</td>\n",
       "      <td>0</td>\n",
       "      <td>404</td>\n",
       "    </tr>\n",
       "    <tr>\n",
       "      <th>4</th>\n",
       "      <td>6</td>\n",
       "      <td>29</td>\n",
       "      <td>44</td>\n",
       "      <td>10</td>\n",
       "      <td>44</td>\n",
       "      <td>22</td>\n",
       "      <td>136</td>\n",
       "      <td>392</td>\n",
       "      <td>10</td>\n",
       "      <td>11</td>\n",
       "      <td>851</td>\n",
       "      <td>381</td>\n",
       "      <td>0</td>\n",
       "      <td>7</td>\n",
       "    </tr>\n",
       "    <tr>\n",
       "      <th>5</th>\n",
       "      <td>7</td>\n",
       "      <td>29</td>\n",
       "      <td>44</td>\n",
       "      <td>358</td>\n",
       "      <td>62</td>\n",
       "      <td>22</td>\n",
       "      <td>108</td>\n",
       "      <td>389</td>\n",
       "      <td>10</td>\n",
       "      <td>11</td>\n",
       "      <td>698</td>\n",
       "      <td>157</td>\n",
       "      <td>0</td>\n",
       "      <td>8</td>\n",
       "    </tr>\n",
       "    <tr>\n",
       "      <th>6</th>\n",
       "      <td>8</td>\n",
       "      <td>29</td>\n",
       "      <td>40</td>\n",
       "      <td>367</td>\n",
       "      <td>44</td>\n",
       "      <td>4</td>\n",
       "      <td>136</td>\n",
       "      <td>159</td>\n",
       "      <td>7</td>\n",
       "      <td>11</td>\n",
       "      <td>693</td>\n",
       "      <td>0</td>\n",
       "      <td>1</td>\n",
       "      <td>386</td>\n",
       "    </tr>\n",
       "    <tr>\n",
       "      <th>7</th>\n",
       "      <td>9</td>\n",
       "      <td>55</td>\n",
       "      <td>32</td>\n",
       "      <td>262</td>\n",
       "      <td>27</td>\n",
       "      <td>22</td>\n",
       "      <td>97</td>\n",
       "      <td>339</td>\n",
       "      <td>7</td>\n",
       "      <td>11</td>\n",
       "      <td>78</td>\n",
       "      <td>381</td>\n",
       "      <td>0</td>\n",
       "      <td>404</td>\n",
       "    </tr>\n",
       "    <tr>\n",
       "      <th>8</th>\n",
       "      <td>10</td>\n",
       "      <td>58</td>\n",
       "      <td>44</td>\n",
       "      <td>235</td>\n",
       "      <td>45</td>\n",
       "      <td>21</td>\n",
       "      <td>103</td>\n",
       "      <td>220</td>\n",
       "      <td>7</td>\n",
       "      <td>11</td>\n",
       "      <td>9</td>\n",
       "      <td>320</td>\n",
       "      <td>0</td>\n",
       "      <td>404</td>\n",
       "    </tr>\n",
       "    <tr>\n",
       "      <th>9</th>\n",
       "      <td>11</td>\n",
       "      <td>19</td>\n",
       "      <td>99</td>\n",
       "      <td>102</td>\n",
       "      <td>100</td>\n",
       "      <td>22</td>\n",
       "      <td>136</td>\n",
       "      <td>404</td>\n",
       "      <td>12</td>\n",
       "      <td>17</td>\n",
       "      <td>121</td>\n",
       "      <td>178</td>\n",
       "      <td>0</td>\n",
       "      <td>404</td>\n",
       "    </tr>\n",
       "  </tbody>\n",
       "</table>\n",
       "</div>"
      ],
      "text/plain": [
       "   Unnamed: 0  Made from  Country of origin  Region  Type  Family  \\\n",
       "0           2         66                 44     390    45      22   \n",
       "1           3         10                 44     557    44      22   \n",
       "2           4         58                 44      93    62      22   \n",
       "3           5         58                 44     453    75      22   \n",
       "4           6         29                 44      10    44      22   \n",
       "5           7         29                 44     358    62      22   \n",
       "6           8         29                 40     367    44       4   \n",
       "7           9         55                 32     262    27      22   \n",
       "8          10         58                 44     235    45      21   \n",
       "9          11         19                 99     102   100      22   \n",
       "\n",
       "   Fat content  Texture  Rind  Colour  Flavour  Aroma  Vegetarian  Producers  \n",
       "0          136      171     7      16       97    284           1        404  \n",
       "1           90      324    10       8      851      0           0        404  \n",
       "2          136      173    10      15       57     60           0        404  \n",
       "3          136      218    10      15      503    279           0        404  \n",
       "4          136      392    10      11      851    381           0          7  \n",
       "5          108      389    10      11      698    157           0          8  \n",
       "6          136      159     7      11      693      0           1        386  \n",
       "7           97      339     7      11       78    381           0        404  \n",
       "8          103      220     7      11        9    320           0        404  \n",
       "9          136      404    12      17      121    178           0        404  "
      ]
     },
     "execution_count": 36,
     "metadata": {},
     "output_type": "execute_result"
    }
   ],
   "source": [
    "cheese_df.head(10)"
   ]
  },
  {
   "cell_type": "code",
   "execution_count": 37,
   "id": "8b47108c",
   "metadata": {},
   "outputs": [],
   "source": [
    "# For plotting\n",
    "%matplotlib inline\n",
    "import matplotlib as mpl\n",
    "import matplotlib.pyplot as plt\n",
    "mpl.rc('axes', labelsize=14)\n",
    "mpl.rc('xtick', labelsize=12)\n",
    "mpl.rc('ytick', labelsize=12)"
   ]
  },
  {
   "cell_type": "code",
   "execution_count": 38,
   "id": "4ec5fc4a",
   "metadata": {},
   "outputs": [
    {
     "data": {
      "image/png": "[encoded data removed]",
      "text/plain": [
       "<Figure size 1080x1080 with 16 Axes>"
      ]
     },
     "metadata": {
      "needs_background": "light"
     },
     "output_type": "display_data"
    }
   ],
   "source": [
    "%matplotlib inline\n",
    "import matplotlib.pyplot as plt\n",
    "cheese_df.hist(bins=50, figsize=(15,15))\n",
    "plt.show()"
   ]
  },
  {
   "cell_type": "code",
   "execution_count": 39,
   "id": "9d2b9bc1",
   "metadata": {},
   "outputs": [],
   "source": [
    "cheese_df.drop(cheese_df.index[cheese_df['Vegetarian'] == 2], inplace=True) #remove all missing vegetarian categories"
   ]
  },
  {
   "cell_type": "code",
   "execution_count": 40,
   "id": "83eec1d4",
   "metadata": {},
   "outputs": [
    {
     "data": {
      "text/plain": [
       "0    622\n",
       "1    432\n",
       "Name: Vegetarian, dtype: int64"
      ]
     },
     "execution_count": 40,
     "metadata": {},
     "output_type": "execute_result"
    }
   ],
   "source": [
    "cheese_df['Vegetarian'].value_counts() #shows value counts for vegetarian, 1 means it IS vegetarian, 0 means it is NOT veg."
   ]
  },
  {
   "cell_type": "code",
   "execution_count": 41,
   "id": "a45c845e",
   "metadata": {},
   "outputs": [
    {
     "name": "stderr",
     "output_type": "stream",
     "text": [
      "/home/ec2-user/anaconda3/envs/python3/lib/python3.6/site-packages/seaborn/_decorators.py:43: FutureWarning: Pass the following variables as keyword args: x, y. From version 0.12, the only valid positional argument will be `data`, and passing other arguments without an explicit keyword will result in an error or misinterpretation.\n",
      "  FutureWarning\n"
     ]
    },
    {
     "data": {
      "text/plain": [
       "Text(0.5, 1.0, 'Number of Vegetarian/Non-Vegetarian cheeses')"
      ]
     },
     "execution_count": 41,
     "metadata": {},
     "output_type": "execute_result"
    },
    {
     "data": {
      "image/png": "[encoded data removed]",
      "text/plain": [
       "<Figure size 576x504 with 1 Axes>"
      ]
     },
     "metadata": {
      "needs_background": "light"
     },
     "output_type": "display_data"
    }
   ],
   "source": [
    "import seaborn as sns\n",
    "\n",
    "count = cheese_df['Vegetarian'].value_counts()\n",
    "plt.figure(figsize=(8,7))\n",
    "sns.barplot(count.index, count.values, alpha=0.8, palette=\"Blues\")\n",
    "plt.ylabel('Count', fontsize=12)\n",
    "plt.xlabel('Class: 0 = Vegetarian, 1 = Not Vegetarian', fontsize=12)\n",
    "plt.title('Number of Vegetarian/Non-Vegetarian cheeses')"
   ]
  },
  {
   "cell_type": "code",
   "execution_count": 42,
   "id": "5a84a8a7",
   "metadata": {},
   "outputs": [],
   "source": [
    "cheese_df.drop(['Unnamed: 0'], axis=1, inplace = True) #remove the cheese name, this is irrelevant"
   ]
  },
  {
   "cell_type": "code",
   "execution_count": 43,
   "id": "6a4e3aac",
   "metadata": {},
   "outputs": [
    {
     "data": {
      "text/html": [
       "<div>\n",
       "<style scoped>\n",
       "    .dataframe tbody tr th:only-of-type {\n",
       "        vertical-align: middle;\n",
       "    }\n",
       "\n",
       "    .dataframe tbody tr th {\n",
       "        vertical-align: top;\n",
       "    }\n",
       "\n",
       "    .dataframe thead th {\n",
       "        text-align: right;\n",
       "    }\n",
       "</style>\n",
       "<table border=\"1\" class=\"dataframe\">\n",
       "  <thead>\n",
       "    <tr style=\"text-align: right;\">\n",
       "      <th></th>\n",
       "      <th>Made from</th>\n",
       "      <th>Country of origin</th>\n",
       "      <th>Region</th>\n",
       "      <th>Type</th>\n",
       "      <th>Family</th>\n",
       "      <th>Fat content</th>\n",
       "      <th>Texture</th>\n",
       "      <th>Rind</th>\n",
       "      <th>Colour</th>\n",
       "      <th>Flavour</th>\n",
       "      <th>Aroma</th>\n",
       "      <th>Vegetarian</th>\n",
       "      <th>Producers</th>\n",
       "    </tr>\n",
       "  </thead>\n",
       "  <tbody>\n",
       "    <tr>\n",
       "      <th>0</th>\n",
       "      <td>66</td>\n",
       "      <td>44</td>\n",
       "      <td>390</td>\n",
       "      <td>45</td>\n",
       "      <td>22</td>\n",
       "      <td>136</td>\n",
       "      <td>171</td>\n",
       "      <td>7</td>\n",
       "      <td>16</td>\n",
       "      <td>97</td>\n",
       "      <td>284</td>\n",
       "      <td>1</td>\n",
       "      <td>404</td>\n",
       "    </tr>\n",
       "    <tr>\n",
       "      <th>1</th>\n",
       "      <td>10</td>\n",
       "      <td>44</td>\n",
       "      <td>557</td>\n",
       "      <td>44</td>\n",
       "      <td>22</td>\n",
       "      <td>90</td>\n",
       "      <td>324</td>\n",
       "      <td>10</td>\n",
       "      <td>8</td>\n",
       "      <td>851</td>\n",
       "      <td>0</td>\n",
       "      <td>0</td>\n",
       "      <td>404</td>\n",
       "    </tr>\n",
       "    <tr>\n",
       "      <th>2</th>\n",
       "      <td>58</td>\n",
       "      <td>44</td>\n",
       "      <td>93</td>\n",
       "      <td>62</td>\n",
       "      <td>22</td>\n",
       "      <td>136</td>\n",
       "      <td>173</td>\n",
       "      <td>10</td>\n",
       "      <td>15</td>\n",
       "      <td>57</td>\n",
       "      <td>60</td>\n",
       "      <td>0</td>\n",
       "      <td>404</td>\n",
       "    </tr>\n",
       "    <tr>\n",
       "      <th>3</th>\n",
       "      <td>58</td>\n",
       "      <td>44</td>\n",
       "      <td>453</td>\n",
       "      <td>75</td>\n",
       "      <td>22</td>\n",
       "      <td>136</td>\n",
       "      <td>218</td>\n",
       "      <td>10</td>\n",
       "      <td>15</td>\n",
       "      <td>503</td>\n",
       "      <td>279</td>\n",
       "      <td>0</td>\n",
       "      <td>404</td>\n",
       "    </tr>\n",
       "    <tr>\n",
       "      <th>4</th>\n",
       "      <td>29</td>\n",
       "      <td>44</td>\n",
       "      <td>10</td>\n",
       "      <td>44</td>\n",
       "      <td>22</td>\n",
       "      <td>136</td>\n",
       "      <td>392</td>\n",
       "      <td>10</td>\n",
       "      <td>11</td>\n",
       "      <td>851</td>\n",
       "      <td>381</td>\n",
       "      <td>0</td>\n",
       "      <td>7</td>\n",
       "    </tr>\n",
       "    <tr>\n",
       "      <th>...</th>\n",
       "      <td>...</td>\n",
       "      <td>...</td>\n",
       "      <td>...</td>\n",
       "      <td>...</td>\n",
       "      <td>...</td>\n",
       "      <td>...</td>\n",
       "      <td>...</td>\n",
       "      <td>...</td>\n",
       "      <td>...</td>\n",
       "      <td>...</td>\n",
       "      <td>...</td>\n",
       "      <td>...</td>\n",
       "      <td>...</td>\n",
       "    </tr>\n",
       "    <tr>\n",
       "      <th>1542</th>\n",
       "      <td>29</td>\n",
       "      <td>99</td>\n",
       "      <td>415</td>\n",
       "      <td>100</td>\n",
       "      <td>22</td>\n",
       "      <td>136</td>\n",
       "      <td>203</td>\n",
       "      <td>1</td>\n",
       "      <td>15</td>\n",
       "      <td>292</td>\n",
       "      <td>188</td>\n",
       "      <td>0</td>\n",
       "      <td>283</td>\n",
       "    </tr>\n",
       "    <tr>\n",
       "      <th>1544</th>\n",
       "      <td>64</td>\n",
       "      <td>44</td>\n",
       "      <td>466</td>\n",
       "      <td>87</td>\n",
       "      <td>0</td>\n",
       "      <td>97</td>\n",
       "      <td>339</td>\n",
       "      <td>1</td>\n",
       "      <td>0</td>\n",
       "      <td>767</td>\n",
       "      <td>318</td>\n",
       "      <td>1</td>\n",
       "      <td>404</td>\n",
       "    </tr>\n",
       "    <tr>\n",
       "      <th>1545</th>\n",
       "      <td>29</td>\n",
       "      <td>91</td>\n",
       "      <td>201</td>\n",
       "      <td>75</td>\n",
       "      <td>22</td>\n",
       "      <td>97</td>\n",
       "      <td>389</td>\n",
       "      <td>7</td>\n",
       "      <td>11</td>\n",
       "      <td>85</td>\n",
       "      <td>333</td>\n",
       "      <td>0</td>\n",
       "      <td>404</td>\n",
       "    </tr>\n",
       "    <tr>\n",
       "      <th>1546</th>\n",
       "      <td>55</td>\n",
       "      <td>0</td>\n",
       "      <td>557</td>\n",
       "      <td>26</td>\n",
       "      <td>22</td>\n",
       "      <td>136</td>\n",
       "      <td>404</td>\n",
       "      <td>12</td>\n",
       "      <td>17</td>\n",
       "      <td>851</td>\n",
       "      <td>381</td>\n",
       "      <td>0</td>\n",
       "      <td>404</td>\n",
       "    </tr>\n",
       "    <tr>\n",
       "      <th>1547</th>\n",
       "      <td>29</td>\n",
       "      <td>41</td>\n",
       "      <td>485</td>\n",
       "      <td>26</td>\n",
       "      <td>4</td>\n",
       "      <td>76</td>\n",
       "      <td>271</td>\n",
       "      <td>7</td>\n",
       "      <td>16</td>\n",
       "      <td>551</td>\n",
       "      <td>356</td>\n",
       "      <td>0</td>\n",
       "      <td>245</td>\n",
       "    </tr>\n",
       "  </tbody>\n",
       "</table>\n",
       "<p>1054 rows × 13 columns</p>\n",
       "</div>"
      ],
      "text/plain": [
       "      Made from  Country of origin  Region  Type  Family  Fat content  \\\n",
       "0            66                 44     390    45      22          136   \n",
       "1            10                 44     557    44      22           90   \n",
       "2            58                 44      93    62      22          136   \n",
       "3            58                 44     453    75      22          136   \n",
       "4            29                 44      10    44      22          136   \n",
       "...         ...                ...     ...   ...     ...          ...   \n",
       "1542         29                 99     415   100      22          136   \n",
       "1544         64                 44     466    87       0           97   \n",
       "1545         29                 91     201    75      22           97   \n",
       "1546         55                  0     557    26      22          136   \n",
       "1547         29                 41     485    26       4           76   \n",
       "\n",
       "      Texture  Rind  Colour  Flavour  Aroma  Vegetarian  Producers  \n",
       "0         171     7      16       97    284           1        404  \n",
       "1         324    10       8      851      0           0        404  \n",
       "2         173    10      15       57     60           0        404  \n",
       "3         218    10      15      503    279           0        404  \n",
       "4         392    10      11      851    381           0          7  \n",
       "...       ...   ...     ...      ...    ...         ...        ...  \n",
       "1542      203     1      15      292    188           0        283  \n",
       "1544      339     1       0      767    318           1        404  \n",
       "1545      389     7      11       85    333           0        404  \n",
       "1546      404    12      17      851    381           0        404  \n",
       "1547      271     7      16      551    356           0        245  \n",
       "\n",
       "[1054 rows x 13 columns]"
      ]
     },
     "execution_count": 43,
     "metadata": {},
     "output_type": "execute_result"
    }
   ],
   "source": [
    "cheese_df"
   ]
  },
  {
   "cell_type": "code",
   "execution_count": 45,
   "id": "482d0708",
   "metadata": {
    "scrolled": false
   },
   "outputs": [
    {
     "data": {
      "image/png": "[encoded data removed]",
      "text/plain": [
       "<Figure size 1008x864 with 2 Axes>"
      ]
     },
     "metadata": {
      "needs_background": "light"
     },
     "output_type": "display_data"
    }
   ],
   "source": [
    "plt.figure(figsize=(14,12))\n",
    "sns.heatmap(cheese_df.corr(),linewidths=.1,cmap=\"Blues\", annot=True, annot_kws={\"size\": 7})\n",
    "plt.yticks(rotation=0);"
   ]
  },
  {
   "cell_type": "code",
   "execution_count": 46,
   "id": "03dbb416",
   "metadata": {},
   "outputs": [],
   "source": [
    "from sklearn.model_selection import train_test_split"
   ]
  },
  {
   "cell_type": "code",
   "execution_count": 47,
   "id": "814ace55",
   "metadata": {},
   "outputs": [],
   "source": [
    "y = cheese_df[\"Vegetarian\"].values # y is \"class\" column as numpy array. This represents the \"ground truth\"\n",
    "x = cheese_df.drop([\"Vegetarian\"], axis=1).values # x is all data except \"class\" column. Representing all of the features\n",
    "\n",
    "x_train, x_test, y_train, y_test = train_test_split(x,y,random_state=42,test_size=0.2) # Split data for train and test."
   ]
  },
  {
   "cell_type": "code",
   "execution_count": 48,
   "id": "7f31bf03",
   "metadata": {},
   "outputs": [],
   "source": [
    "X = x_train #shortened variables which will be used for all training\n",
    "y = y_train"
   ]
  },
  {
   "cell_type": "code",
   "execution_count": 49,
   "id": "b1b7c0d4",
   "metadata": {},
   "outputs": [],
   "source": [
    "assert len(x_train) == len(y_train) #training data with and without class are equal"
   ]
  },
  {
   "cell_type": "code",
   "execution_count": 50,
   "id": "a6cb9bbe",
   "metadata": {},
   "outputs": [
    {
     "data": {
      "text/plain": [
       "843"
      ]
     },
     "execution_count": 50,
     "metadata": {},
     "output_type": "execute_result"
    }
   ],
   "source": [
    "len(y_train)"
   ]
  },
  {
   "cell_type": "code",
   "execution_count": 51,
   "id": "7f0d6c90",
   "metadata": {},
   "outputs": [
    {
     "data": {
      "text/plain": [
       "211"
      ]
     },
     "execution_count": 51,
     "metadata": {},
     "output_type": "execute_result"
    }
   ],
   "source": [
    "len(y_test) # good split"
   ]
  },
  {
   "cell_type": "code",
   "execution_count": 52,
   "id": "8543598c",
   "metadata": {},
   "outputs": [],
   "source": [
    "from sklearn import svm\n",
    "from sklearn.metrics import accuracy_score"
   ]
  },
  {
   "cell_type": "code",
   "execution_count": 53,
   "id": "d1ca1bf0",
   "metadata": {},
   "outputs": [
    {
     "data": {
      "text/plain": [
       "SVC()"
      ]
     },
     "execution_count": 53,
     "metadata": {},
     "output_type": "execute_result"
    }
   ],
   "source": [
    "clf = svm.SVC()\n",
    "clf.fit(X, y) #fit to training data"
   ]
  },
  {
   "cell_type": "code",
   "execution_count": 55,
   "id": "93a470a1",
   "metadata": {},
   "outputs": [
    {
     "data": {
      "text/plain": [
       "0.6398104265402843"
      ]
     },
     "execution_count": 55,
     "metadata": {},
     "output_type": "execute_result"
    }
   ],
   "source": [
    "predicted_svc = clf.predict(x_test)\n",
    "accuracy_score(y_test, predicted_svc) #64% chance it accurately predicts"
   ]
  },
  {
   "cell_type": "code",
   "execution_count": 56,
   "id": "1afb5ffd",
   "metadata": {},
   "outputs": [
    {
     "data": {
      "text/plain": [
       "0.6161137440758294"
      ]
     },
     "execution_count": 56,
     "metadata": {},
     "output_type": "execute_result"
    }
   ],
   "source": [
    "from sklearn.neighbors import KNeighborsClassifier # import for classifier\n",
    "clf_knn = KNeighborsClassifier(n_neighbors=5)\n",
    "clf_knn.fit(X,y)\n",
    "predicted_knn = clf_knn.predict(x_test)\n",
    "accuracy_score(y_test, predicted_knn)"
   ]
  },
  {
   "cell_type": "code",
   "execution_count": 57,
   "id": "01ff1aa8",
   "metadata": {},
   "outputs": [
    {
     "data": {
      "text/plain": [
       "0.6540284360189573"
      ]
     },
     "execution_count": 57,
     "metadata": {},
     "output_type": "execute_result"
    }
   ],
   "source": [
    "from sklearn.naive_bayes import GaussianNB\n",
    "nb = GaussianNB()\n",
    "nb.fit(X,y)\n",
    "nb.score(x_test,y_test)"
   ]
  },
  {
   "cell_type": "code",
   "execution_count": 58,
   "id": "5166aa67",
   "metadata": {},
   "outputs": [
    {
     "data": {
      "text/plain": [
       "0.6966824644549763"
      ]
     },
     "execution_count": 58,
     "metadata": {},
     "output_type": "execute_result"
    }
   ],
   "source": [
    "from sklearn.tree import DecisionTreeClassifier\n",
    "clf_dt = DecisionTreeClassifier()\n",
    "clf_dt.fit(X, y)\n",
    "predicted_dt = clf_dt.predict(x_test)\n",
    "accuracy_score(y_test, predicted_dt)"
   ]
  },
  {
   "cell_type": "code",
   "execution_count": 61,
   "id": "f1c21d54",
   "metadata": {},
   "outputs": [
    {
     "data": {
      "text/plain": [
       "0.8009478672985783"
      ]
     },
     "execution_count": 61,
     "metadata": {},
     "output_type": "execute_result"
    }
   ],
   "source": [
    "from sklearn.ensemble import RandomForestClassifier\n",
    "rf_v = RandomForestClassifier()\n",
    "rf_v.fit(X, y)\n",
    "predicted_rf_v = rf_v.predict(x_test)\n",
    "accuracy_score(y_test, predicted_rf_v)"
   ]
  },
  {
   "cell_type": "code",
   "execution_count": 62,
   "id": "3d2ef768",
   "metadata": {},
   "outputs": [],
   "source": [
    "from sklearn.model_selection import cross_val_score"
   ]
  },
  {
   "cell_type": "code",
   "execution_count": 65,
   "id": "6e26f24d",
   "metadata": {},
   "outputs": [
    {
     "data": {
      "text/plain": [
       "0.7568067226890757"
      ]
     },
     "execution_count": 65,
     "metadata": {},
     "output_type": "execute_result"
    }
   ],
   "source": [
    "cross_val_10 = cross_val_score(rf_v, X, y, cv=10)\n",
    "cross_val_10\n",
    "cross_val_10.mean()"
   ]
  },
  {
   "cell_type": "code",
   "execution_count": 67,
   "id": "d8c2cfb5",
   "metadata": {},
   "outputs": [
    {
     "data": {
      "text/plain": [
       "array([[97, 19],\n",
       "       [23, 72]])"
      ]
     },
     "execution_count": 67,
     "metadata": {},
     "output_type": "execute_result"
    }
   ],
   "source": [
    "from sklearn.metrics import confusion_matrix\n",
    "confusion_matrix(y_test, predicted_rf_v) "
   ]
  },
  {
   "cell_type": "code",
   "execution_count": 68,
   "id": "68428a79",
   "metadata": {},
   "outputs": [
    {
     "data": {
      "image/png": "[encoded data removed]",
      "text/plain": [
       "<Figure size 504x504 with 2 Axes>"
      ]
     },
     "metadata": {
      "needs_background": "light"
     },
     "output_type": "display_data"
    }
   ],
   "source": [
    "cm = confusion_matrix(y_test, predicted_rf_v)\n",
    "x_axis_labels = [\"Vegetarian +\", \"Non-Vegetarian -\"]\n",
    "y_axis_labels = [\"Vegetarian +\", \"Non-Vegetarian -\"]\n",
    "f, ax = plt.subplots(figsize =(7,7))\n",
    "sns.heatmap(cm, annot = True, linewidths=0.2, linecolor=\"black\", fmt = \".0f\", ax=ax, cmap=\"Purples\", xticklabels=x_axis_labels, yticklabels=y_axis_labels)\n",
    "plt.xlabel(\"PREDICTED CLASS\")\n",
    "plt.ylabel(\"TRUE CLASS\")\n",
    "plt.title('Confusion Matrix for Random Forest')\n",
    "plt.show()"
   ]
  },
  {
   "cell_type": "code",
   "execution_count": null,
   "id": "7efd326c",
   "metadata": {},
   "outputs": [],
   "source": []
  }
 ],
 "metadata": {
  "kernelspec": {
   "display_name": "conda_python3",
   "language": "python",
   "name": "conda_python3"
  },
  "language_info": {
   "codemirror_mode": {
    "name": "ipython",
    "version": 3
   },
   "file_extension": ".py",
   "mimetype": "text/x-python",
   "name": "python",
   "nbconvert_exporter": "python",
   "pygments_lexer": "ipython3",
   "version": "3.6.13"
  }
 },
 "nbformat": 4,
 "nbformat_minor": 5
}
